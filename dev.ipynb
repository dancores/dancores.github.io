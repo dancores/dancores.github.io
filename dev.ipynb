{
 "cells": [
  {
   "cell_type": "code",
   "execution_count": 42,
   "source": [
    "import pandas as pd\n",
    "import jinja2\n",
    "\n",
    "SHEET_URL = \"https://docs.google.com/spreadsheets/d/1DqCJy4qOGNR4UD-PLHOQwyByDBlHdS4NLL-_jd4JS9U/export?format=csv\"\n",
    "\n",
    "df = pd.read_csv(SHEET_URL)\n",
    "df = df.drop(['Timestamp'], axis=1)\n",
    "df.Website = df.Website.apply(lambda url: f'<a href=\"{url}\">{url}</a>')\n",
    "df['Contact email'] = df['Contact email'].apply(lambda email: f'<a href=\"mailto:{email}\">{email}</a>')\n",
    "\n",
    "\n",
    "# Generate HTML from template.\n",
    "template = jinja2.Template(\"\"\"<!DOCTYPE html>\n",
    "<html>\n",
    "\n",
    "<head>\n",
    "    <meta charset=\"utf-8\">\n",
    "    <meta name=\"viewport\" content=\"width=device-width\">\n",
    "    <title>Demo</title>\n",
    "    <link href=\"https://cdn.jsdelivr.net/npm/simple-datatables@latest/dist/style.css\" rel=\"stylesheet\" type=\"text/css\">\n",
    "    <script src=\"https://cdn.jsdelivr.net/npm/simple-datatables@latest\" type=\"text/javascript\"></script>\n",
    "    <link rel=\"stylesheet\" href=\"./style.css\">\n",
    "    </head>\n",
    "    <h1>Danish Core Facilities</h1>\n",
    "    <body>\n",
    "\n",
    "        {{ dataframe }}\n",
    "\n",
    "    </body>\n",
    "\n",
    "    <script defer type=\"text/javascript\">\n",
    "        let myTable = new simpleDatatables.DataTable(\"#myTable\");\n",
    "    </script>\n",
    "\n",
    "</html>\"\"\"\n",
    "                               )\n",
    "\n",
    "output_html = template.render(dataframe=df.to_html(table_id=\"myTable\", index=False, escape=False))\n",
    "\n",
    "# Write generated HTML to file.\n",
    "with open(\"index.html\", \"w\", encoding=\"utf-8\") as file_obj:\n",
    "    file_obj.write(output_html)"
   ],
   "outputs": [],
   "metadata": {}
  }
 ],
 "metadata": {
  "orig_nbformat": 4,
  "language_info": {
   "name": "python",
   "version": "3.6.11",
   "mimetype": "text/x-python",
   "codemirror_mode": {
    "name": "ipython",
    "version": 3
   },
   "pygments_lexer": "ipython3",
   "nbconvert_exporter": "python",
   "file_extension": ".py"
  },
  "kernelspec": {
   "name": "python3",
   "display_name": "Python 3.6.11 64-bit ('27410-course-materials': pyenv)"
  },
  "interpreter": {
   "hash": "d58dce0d622850efa13e08cf104c667c4bdb4553a145c7178045b065887c29a0"
  }
 },
 "nbformat": 4,
 "nbformat_minor": 2
}